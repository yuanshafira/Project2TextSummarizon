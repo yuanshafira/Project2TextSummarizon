{
 "cells": [
  {
   "cell_type": "code",
   "execution_count": null,
   "outputs": [],
   "source": [
    "import pandas as pd\n",
    "import os"
   ],
   "metadata": {
    "collapsed": false
   },
   "id": "4c1de58569f4b1cd"
  },
  {
   "cell_type": "code",
   "execution_count": null,
   "outputs": [],
   "source": [
    "path = os.getcwd()\n",
    "dataset_path = 'dataset/liputan6_data'\n",
    "\n",
    "full_dataset_path = os.path.join(path, dataset_path)\n",
    "print(full_dataset_path)"
   ],
   "metadata": {
    "collapsed": false
   },
   "id": "d1fb6a5f20b224e7"
  },
  {
   "cell_type": "code",
   "execution_count": null,
   "id": "initial_id",
   "metadata": {
    "collapsed": true
   },
   "outputs": [],
   "source": [
    "def json_to_parquet(input_folder, output_file):\n",
    "    df_list = []\n",
    "    for json_file in os.listdir(input_folder):\n",
    "        if json_file.endswith('.json'):\n",
    "            df = pd.read_json(os.path.join(input_folder, json_file), lines=True)\n",
    "            df_list.append(df)\n",
    "    combined_df = pd.concat(df_list, ignore_index=True)\n",
    "    combined_df.to_parquet(output_file, index=False)"
   ]
  },
  {
   "cell_type": "code",
   "execution_count": null,
   "outputs": [],
   "source": [
    "json_to_parquet('dataset/liputan6_data/canonical/train', 'dataset/train_combined.parquet')"
   ],
   "metadata": {
    "collapsed": false
   },
   "id": "473abad1cce1ed49"
  },
  {
   "cell_type": "code",
   "execution_count": null,
   "outputs": [],
   "source": [
    "json_to_parquet('dataset/liputan6_data/canonical/test', 'dataset/test_combined.parquet')\n",
    "json_to_parquet('dataset/liputan6_data/canonical/dev', 'dataset/dev_combined.parquet')"
   ],
   "metadata": {
    "collapsed": false
   },
   "id": "483e4afba0d102e8"
  },
  {
   "cell_type": "code",
   "execution_count": null,
   "outputs": [],
   "source": [
    "json_to_parquet('dataset/liputan6_data/xtreme/test', 'dataset/xtreme_test_combined.parquet')\n",
    "json_to_parquet('dataset/liputan6_data/xtreme/dev', 'dataset/xtreme_dev_combined.parquet')"
   ],
   "metadata": {
    "collapsed": false
   },
   "id": "10be40122df6eb12"
  },
  {
   "cell_type": "code",
   "execution_count": null,
   "outputs": [],
   "source": [
    "df_train = pd.read_parquet(os.path.join(path, \"dataset/train_combined.parquet\"))\n",
    "df_train_sample = df_train.sample(frac=0.2, random_state=42) #sample 20% dari total data train.\n",
    "df_train_sample.to_parquet(\"dataset/train_sample_combined.parquet\")"
   ],
   "metadata": {
    "collapsed": false
   },
   "id": "18dec3fe9d23e905"
  }
 ],
 "metadata": {
  "kernelspec": {
   "display_name": "Python 3",
   "language": "python",
   "name": "python3"
  },
  "language_info": {
   "codemirror_mode": {
    "name": "ipython",
    "version": 2
   },
   "file_extension": ".py",
   "mimetype": "text/x-python",
   "name": "python",
   "nbconvert_exporter": "python",
   "pygments_lexer": "ipython2",
   "version": "2.7.6"
  }
 },
 "nbformat": 4,
 "nbformat_minor": 5
}
